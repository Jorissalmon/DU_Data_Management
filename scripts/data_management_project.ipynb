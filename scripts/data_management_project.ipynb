{
 "cells": [
  {
   "cell_type": "code",
   "execution_count": null,
   "id": "c57ff7d9",
   "metadata": {},
   "outputs": [],
   "source": [
    "\"\"\"\n",
    "Created on 11 Juin 2024\n",
    "\n",
    "@author: Joris Salmon\n",
    "site de kaggle : #https://www.kaggle.com/competitions/bike-sharing-demand/data\n",
    "\"\"\""
   ]
  },
  {
   "cell_type": "markdown",
   "id": "0e6d5b60",
   "metadata": {},
   "source": [
    "######################## Correction et description des données #############################"
   ]
  },
  {
   "cell_type": "code",
   "execution_count": null,
   "id": "be5a99d2",
   "metadata": {
    "lines_to_next_cell": 2
   },
   "outputs": [],
   "source": [
    "import streamlit as st\n",
    "import pandas as pd\n",
    "import os\n",
    "from datetime import datetime\n",
    "import matplotlib.pyplot as plt\n",
    "import seaborn as sns"
   ]
  },
  {
   "cell_type": "code",
   "execution_count": null,
   "id": "2830b8d7",
   "metadata": {},
   "outputs": [],
   "source": [
    "#path=os.path.dirname(os.path.abspath(__file__))\n",
    "path=\"C:/Users/ingemedia/Desktop/ETUDES/DU Sorbonne/Cours Data-Management/Projet\"\n",
    "#Read file\n",
    "df=pd.read_csv(f\"{path}/data/data.csv\",sep=\",\")"
   ]
  },
  {
   "cell_type": "code",
   "execution_count": null,
   "id": "b43912f4",
   "metadata": {},
   "outputs": [],
   "source": [
    "#update structure of data\n",
    "df.rename(columns={\n",
    "    'datetime': 'date_heure',\n",
    "    'season': 'saison',\n",
    "    'holiday': 'jour_ferie',\n",
    "    'workingday': 'jour_travaille',\n",
    "    'weather': 'meteo',\n",
    "    'temp': 'temperature_celsius',\n",
    "    'atemp': 'temperature_ressentie_celsius',\n",
    "    'humidity': 'humidite_relative',\n",
    "    'windspeed': 'vitesse_vent',\n",
    "    'casual': 'locations_utilisateurs_non_inscrits',\n",
    "    'registered': 'locations_utilisateurs_inscrits',\n",
    "    'count': 'total_locations'\n",
    "}, inplace=True)"
   ]
  },
  {
   "cell_type": "code",
   "execution_count": null,
   "id": "d044d79f",
   "metadata": {},
   "outputs": [],
   "source": [
    "print(\"Affichage des type de données avec le nombre de NA\")\n",
    "df.isna().sum() #pas de valeurs manquantes\n",
    "df.info() #pas de valeurs manquantes, 10886 valeurs\n",
    "df.head(5) #visuel\n",
    "print(\"Affichage des principales statistiques du DF\")\n",
    "print(df.describe(include='int'))\n",
    "df[\"date_heure\"]=pd.to_datetime(df[\"date_heure\"])"
   ]
  },
  {
   "cell_type": "code",
   "execution_count": null,
   "id": "c2a27717",
   "metadata": {
    "lines_to_next_cell": 2
   },
   "outputs": [],
   "source": [
    "#Création de variables\n",
    "##Création de colonnes à partir de la date\n",
    "df[\"Annee\"]=df[\"date_heure\"].dt.year\n",
    "df[\"Trimestre\"]=df[\"date_heure\"].dt.quarter\n",
    "df[\"Mois\"]=df[\"date_heure\"].dt.month\n",
    "df[\"Semaine\"]=df[\"date_heure\"].dt.isocalendar().week\n",
    "df[\"Heure\"]=df[\"date_heure\"].dt.hour\n",
    "df[\"Jour\"]=df[\"date_heure\"].dt.day\n",
    "df['annee_mois'] = df['date_heure'].dt.strftime('%Y-%m')\n",
    "df['annee_mois_jour'] = df['date_heure'].dt.strftime('%Y-%m-%d')\n",
    "##Création de deux nouvelles colonnes\n",
    "df[\"temperature_celsius_categ\"]=pd.cut(df[\"temperature_celsius\"], bins=([0,5,10,15,20,25,30,35,40,45]))\n",
    "df[\"IndiceConfortThermique\"]=df[\"temperature_celsius\"]-((0.55-0.0055*df[\"humidite_relative\"])*(df[\"temperature_celsius\"]-14.5))-(df[\"vitesse_vent\"]/10)"
   ]
  },
  {
   "cell_type": "code",
   "execution_count": null,
   "id": "d22924c4",
   "metadata": {
    "lines_to_next_cell": 2
   },
   "outputs": [],
   "source": [
    "# Recodage de certaines variables avec le mapping\n",
    "saison_mapping = {\n",
    "    1: \"printemps\",\n",
    "    2: \"ete\",\n",
    "    3: \"automne\",\n",
    "    4: \"hiver\"\n",
    "}\n",
    "df['saison']=df['saison'].map(saison_mapping)"
   ]
  },
  {
   "cell_type": "code",
   "execution_count": null,
   "id": "26050eaf",
   "metadata": {},
   "outputs": [],
   "source": [
    "# Export en csv des données modifiées\n",
    "df.to_csv(f\"{path}/data/data_modified.csv\")"
   ]
  },
  {
   "cell_type": "code",
   "execution_count": null,
   "id": "670e52d3",
   "metadata": {},
   "outputs": [],
   "source": [
    "# Visualisation globale des distributions des variables\n",
    "df.hist(figsize=(20,15))\n",
    "print(\"\"\"\n",
    "      Quelques remarques sur les distributions des variables :\n",
    "    - il n'y a pas forcément de saison pour les locations\n",
    "    - on remarque certaines distributions sur la gauche qui peuvent être écrasé par des valeurs aberrantes\n",
    "    - cela semble suivre une distribution normale si l'on souhaite construire un modèle\n",
    "      \"\"\")"
   ]
  },
  {
   "cell_type": "markdown",
   "id": "b78ba03a-a826-443a-bd36-f90463418c34",
   "metadata": {},
   "source": [
    "#### Visualisation sur les totaux des locations par mois pour les 2 années d'activités"
   ]
  },
  {
   "cell_type": "code",
   "execution_count": null,
   "id": "e2d038f0",
   "metadata": {},
   "outputs": [],
   "source": [
    "df_daily=df.groupby('annee_mois')['total_locations'].sum().reset_index()"
   ]
  },
  {
   "cell_type": "code",
   "execution_count": null,
   "id": "a3ffc976",
   "metadata": {},
   "outputs": [],
   "source": [
    "plt.figure(figsize=(14, 6))\n",
    "sns.scatterplot(data=df_daily,x='annee_mois',y='total_locations')\n",
    "plt.xticks(rotation=45)\n",
    "plt.title('Totaux des locations de vélo par mois depuis le début')\n",
    "plt.xlabel('Date')\n",
    "plt.ylabel('Nombre total des locations')\n",
    "plt.axvline('2012-01', color='red', linestyle='--', lw=1)\n",
    "y_min, y_max = plt.ylim()\n",
    "y_max=y_max-15000 \n",
    "y_min=y_min+15000\n",
    "plt.text('2011-06', y_max, str(2011), color='red', ha='right', va='center', fontsize=24, fontweight='bold')\n",
    "plt.text('2012-10', y_min, str(2012), color='red', ha='right', va='center', fontsize=24, fontweight='bold')\n",
    "plt.show()"
   ]
  },
  {
   "cell_type": "code",
   "execution_count": null,
   "id": "08130a3f",
   "metadata": {},
   "outputs": [],
   "source": [
    "#### On va regarder les corrélations des variables numériques entre elles\n",
    "df_correlation=df.corr(numeric_only=True)\n",
    "sns.heatmap(data=df_correlation, cmap='viridis')\n",
    "print(\"\"\"\n",
    "      Remarques pour le heatmap des corrélations entre variables numériques : \n",
    "      • On remarque des corrélations fortes entre les locations avec les températures, l'ICT et les heures'\n",
    "      \"\"\")"
   ]
  },
  {
   "cell_type": "code",
   "execution_count": null,
   "id": "bb763f48",
   "metadata": {},
   "outputs": [],
   "source": [
    "#### On veut regarder l'évolution de l'ICT avec le nombre de location de vélo\n",
    "df_ICT_Nb_Loc=df.groupby('annee_mois')[['IndiceConfortThermique','total_locations']].sum().reset_index()\n",
    "ICT=df_ICT_Nb_Loc[\"IndiceConfortThermique\"]\n",
    "Tloc=df_ICT_Nb_Loc[\"total_locations\"]\n",
    "labels=df_ICT_Nb_Loc[\"annee_mois\"]"
   ]
  },
  {
   "cell_type": "code",
   "execution_count": null,
   "id": "abfe3929",
   "metadata": {},
   "outputs": [],
   "source": [
    "fig,ax1=plt.subplots()\n",
    "color=\"blue\"\n",
    "ax1.plot(labels, ICT, color=color)\n",
    "ax1.set_ylabel(\"ICT\", color=color)\n",
    "ax1.tick_params(axis='y', labelcolor=color)\n",
    "ax1.tick_params(axis='x', rotation=45)\n",
    "ax1.spines['left'].set_color(color)\n",
    "ax1.spines['left'].set_linewidth(3)\n",
    "ax1.set_title(\"Indice de Confort Thermique\")"
   ]
  },
  {
   "cell_type": "code",
   "execution_count": null,
   "id": "ecbaa732",
   "metadata": {},
   "outputs": [],
   "source": [
    "ax2 = ax1.twinx()\n",
    "color=\"tab:red\"\n",
    "ax2.plot(labels, Tloc, color=color)\n",
    "ax2.set_ylabel(\"Tloc\", color=color)\n",
    "ax2.tick_params(axis='y', labelcolor=color)\n",
    "ax2.spines['right'].set_color(color)\n",
    "ax2.spines['right'].set_linewidth(3)"
   ]
  },
  {
   "cell_type": "code",
   "execution_count": null,
   "id": "997d29fe",
   "metadata": {},
   "outputs": [],
   "source": [
    "#### On peut maintenant regarder le nombre de location pendant les jours fériés et jours travaillées avec leur évolution au cours du temps\n",
    "import plotly.express as px"
   ]
  },
  {
   "cell_type": "code",
   "execution_count": null,
   "id": "9d85234c",
   "metadata": {},
   "outputs": [],
   "source": [
    "df.loc[df['jour_ferie'] == 1, 'ferie'] = df['total_locations']\n",
    "df.loc[df['jour_travaille'] == 1, 'travaille'] = df['total_locations']\n",
    "df.loc[(df['jour_travaille'] == 0) & (df['jour_ferie'] == 0), 'autre'] = df['total_locations']"
   ]
  },
  {
   "cell_type": "code",
   "execution_count": null,
   "id": "2350326a",
   "metadata": {},
   "outputs": [],
   "source": [
    "# données pour le graphique sunburst\n",
    "df_melted = pd.melt(df, id_vars=['Annee', 'Mois'], value_vars=['ferie', 'travaille', 'autre'],\n",
    "                    var_name='type_jour', value_name='nombre_locations')"
   ]
  },
  {
   "cell_type": "code",
   "execution_count": null,
   "id": "1857bf58",
   "metadata": {},
   "outputs": [],
   "source": [
    "# couleurs pour les types de jours\n",
    "color_mapping = {\n",
    "    'ferie': '#FF4136',  # Rouge foncé\n",
    "    'travaille': '#0074D9',  # Bleu clair\n",
    "    'autre': '#FFDC00'  # Jaune clair\n",
    "}"
   ]
  },
  {
   "cell_type": "code",
   "execution_count": null,
   "id": "8787d2ea",
   "metadata": {},
   "outputs": [],
   "source": [
    "mois_mapping = {\n",
    "    1: 'Janvier',\n",
    "    2: 'Février',\n",
    "    3: 'Mars',\n",
    "    4: 'Avril',\n",
    "    5: 'Mai',\n",
    "    6: 'Juin',\n",
    "    7: 'Juillet',\n",
    "    8: 'Août',\n",
    "    9: 'Septembre',\n",
    "    10: 'Octobre',\n",
    "    11: 'Novembre',\n",
    "    12: 'Décembre'\n",
    "}"
   ]
  },
  {
   "cell_type": "code",
   "execution_count": null,
   "id": "74eda79e",
   "metadata": {
    "lines_to_next_cell": 2
   },
   "outputs": [],
   "source": [
    "# numéros de mois par les noms\n",
    "if 'Janvier' not in df_melted['Mois']:\n",
    "    df_melted['Mois'] = df_melted['Mois'].map(mois_mapping)"
   ]
  },
  {
   "cell_type": "code",
   "execution_count": null,
   "id": "9afb97b5",
   "metadata": {},
   "outputs": [],
   "source": [
    "# On map les couleurs\n",
    "df_melted['color'] = df_melted['type_jour'].map(color_mapping)"
   ]
  },
  {
   "cell_type": "code",
   "execution_count": null,
   "id": "9be3c3c2",
   "metadata": {},
   "outputs": [],
   "source": [
    "# graphique Sunburst\n",
    "fig = px.sunburst(df_melted, path=['Annee', 'Mois', 'type_jour'], values='nombre_locations',\n",
    "                  color='type_jour', color_discrete_map=color_mapping,\n",
    "                  hover_data=['nombre_locations'],\n",
    "                  title=\"Répartition des locations par type de jour et par année/mois\")"
   ]
  },
  {
   "cell_type": "code",
   "execution_count": null,
   "id": "6194bc2a",
   "metadata": {},
   "outputs": [],
   "source": [
    "fig.show()\n",
    "fig.write_html(f\"{path}/graphiques/plotly.html\")"
   ]
  },
  {
   "cell_type": "markdown",
   "id": "8e2c9d0f-40ba-4722-b608-e35ea2d07e87",
   "metadata": {},
   "source": [
    "###################### Web scraping des données pour le Text Mining #######################################"
   ]
  },
  {
   "cell_type": "code",
   "execution_count": null,
   "id": "54038fea",
   "metadata": {},
   "outputs": [],
   "source": [
    "from selenium import webdriver\n",
    "from selenium.webdriver.chrome.service import Service\n",
    "from selenium.webdriver.common.by import By\n",
    "from selenium.webdriver.common.keys import Keys\n",
    "from selenium.webdriver.support.ui import WebDriverWait\n",
    "from selenium.webdriver.support import expected_conditions as EC\n",
    "from selenium.webdriver.chrome.options import Options\n",
    "from selectolax.parser import HTMLParser\n",
    "from bs4 import BeautifulSoup\n",
    "import requests\n",
    "import time\n",
    "import json\n",
    "import pandas as pd"
   ]
  },
  {
   "cell_type": "markdown",
   "id": "9f8a4984",
   "metadata": {},
   "source": [
    "Ouvrir le driver de Selenium pour le Scraping de données\n",
    "options = Options()\n",
    "options.headless = True \n",
    "options.add_argument('user-agent=Mozilla/5.0 (Windows NT 10.0; Win64; x64) AppleWebKit/537.36 (KHTML, like Gecko) Chrome/91.0.4472.124 Safari/537.36')"
   ]
  },
  {
   "cell_type": "markdown",
   "id": "bc3b3e65",
   "metadata": {
    "lines_to_next_cell": 2
   },
   "source": [
    "driver = webdriver.Chrome(options=options)"
   ]
  },
  {
   "cell_type": "markdown",
   "id": "b4913cd9",
   "metadata": {},
   "source": [
    "Initialisation de la liste contenant les dictionnaires, 1 dictionnaire par discussion\n",
    "liste_texte=[]\n",
    "page_content=None"
   ]
  },
  {
   "cell_type": "markdown",
   "id": "3675895f",
   "metadata": {},
   "source": [
    "Site du Dataset\n",
    "url_base=\"https://kaggle.com/competitions/bike-sharing-demand/discussion?sort=undefined&page=\""
   ]
  },
  {
   "cell_type": "code",
   "execution_count": null,
   "id": "5677beff",
   "metadata": {
    "lines_to_next_cell": 1
   },
   "outputs": [],
   "source": [
    "# Fonction pour extraire les messages de chaque discussion\n",
    "def extract_discussion_content(url):\n",
    "    \"\"\"\n",
    "    Parameters\n",
    "    ----------\n",
    "    url : TYPE : str\n",
    "        DESCRIPTION : Cette fonctionne récolte les messages de toutes les discussions à partir des pages de discussion du Dataset\n",
    "\n",
    "    Returns\n",
    "    -------\n",
    "    discussions_dict : TYPE\n",
    "        DESCRIPTION.\n",
    "\n",
    "    \"\"\"\n",
    "    global page_content\n",
    "    response = driver.get(url)\n",
    "    time.sleep(10) #On laisse ces timers pour charger la page mais également pour éviter les mesures de scraping\n",
    "    discussions_dict = {}\n",
    "\n",
    "    page_content = driver.page_source\n",
    "    time.sleep(10) \n",
    "    \n",
    "    soup = BeautifulSoup(page_content, 'html.parser')\n",
    "    \n",
    "    # Extraire le contenu de la discussion\n",
    "    discussions = soup.select(\"div[class='sc-kGLCbq fAhUHg']\")\n",
    "    \n",
    "    for index,discussion in enumerate(discussions,1):\n",
    "        discussion_text = discussion.get_text(strip=True)\n",
    "        discussions_dict[f'Message_{index}'] = discussion_text\n",
    "    \n",
    "    return discussions_dict"
   ]
  },
  {
   "cell_type": "code",
   "execution_count": null,
   "id": "f6f0d718",
   "metadata": {},
   "outputs": [],
   "source": [
    "#On initie un compteur qui va évoluer pour charger les pages suivantes de l'URL\n",
    "def scrape_pages(max_page):\n",
    "    i=0 \n",
    "    while i <= max_page: # On vérifie qu'on est rendu à la page < 8\n",
    "        i+=1\n",
    "        url_page=url_base+str(i) # Constitution de l'url avec le numéro de page\n",
    "        \n",
    "        print(f\"Scraping de la page {i}\")\n",
    "        \n",
    "        driver.get(url_page) # Le driver s'éxécute sur la page\n",
    "        time.sleep(10) # temps de chargement de la page\n",
    "        \n",
    "        page_main_content = driver.page_source #extaction du code source\n",
    "        time.sleep(10) #temps de récupération du HTML\n",
    "        \n",
    "        soup = BeautifulSoup(page_main_content, 'html.parser') # Initialisation du Parser\n",
    "        \n",
    "        # Récupération des liens de toutes les discussions\n",
    "        liens = soup.select(\"ul > li[class='MuiListItem-root MuiListItem-gutters MuiListItem-divider sc-drMgrp dllDGS css-iicyhe'] > div > a.sc-fbbrMC.cfgoB\")\n",
    "        \n",
    "        #On parcourt chaque discussion et on récupère les messages\n",
    "        for index,lien in enumerate(liens,1):\n",
    "            print(f\"Discussion {index}\")\n",
    "            href = lien.get('href') # lien de la discussion\n",
    "            if href:\n",
    "                url = url_base + str(href) # constitution de l'url de chaque message\n",
    "                donnees=extract_discussion_content(url) #Extraire le dictionnaire de chaque discussion\n",
    "                liste_texte.append(donnees) #Ajout à la liste des discussions"
   ]
  },
  {
   "cell_type": "markdown",
   "id": "8933f23d",
   "metadata": {},
   "source": [
    "scrape_pages(1) # On appelle la fonction d'avant avec le paramètre 8 comme max de page"
   ]
  },
  {
   "cell_type": "markdown",
   "id": "076fdd4a",
   "metadata": {},
   "source": [
    "Nombre_discussions=len(liste_texte)\n",
    "Nombre_messages=0"
   ]
  },
  {
   "cell_type": "markdown",
   "id": "70ddb466",
   "metadata": {},
   "source": [
    "for i in liste_texte:\n",
    "   Nombre_messages+=len(i)"
   ]
  },
  {
   "cell_type": "markdown",
   "id": "a2cf6f38",
   "metadata": {
    "lines_to_next_cell": 2
   },
   "source": [
    "print(f\"Il y a {Nombre_discussions} discussions sur ce Dataset\")\n",
    "print(f\"Il y a {Nombre_messages} messages en tout sur ce Dataset\")"
   ]
  },
  {
   "cell_type": "markdown",
   "id": "18b7ae66",
   "metadata": {},
   "source": [
    "corpus=[' '.join(disc.values()) for disc in liste_texte]"
   ]
  },
  {
   "cell_type": "markdown",
   "id": "43c30c3f",
   "metadata": {},
   "source": [
    "Enregistrer les données par discussions et messages dans un fichier JSON\n",
    "with open(f'{path}/data/discussions_data.json', 'w', encoding='utf-8') as f:\n",
    "   json.dump(liste_texte, f, ensure_ascii=False, indent=4)"
   ]
  },
  {
   "cell_type": "markdown",
   "id": "f52c5ec0",
   "metadata": {},
   "source": [
    "with open(f'{path}/data/message_data.json', 'w', encoding='utf-8') as f:\n",
    "   json.dump(corpus, f, ensure_ascii=False, indent=4)"
   ]
  },
  {
   "cell_type": "markdown",
   "id": "3b57b3e4",
   "metadata": {},
   "source": [
    "print(\"Extraction et sauvegarde terminées.\")"
   ]
  },
  {
   "cell_type": "code",
   "execution_count": null,
   "id": "061bd469",
   "metadata": {
    "lines_to_next_cell": 2
   },
   "outputs": [],
   "source": [
    "################################## Analyse du text (Workloud) ################################\n",
    "# Pour le pré processing\n",
    "from unidecode import unidecode\n",
    "import re\n",
    "from nltk.stem import SnowballStemmer\n",
    "import nltk\n",
    "from nltk.corpus import stopwords\n",
    "from nltk.tokenize import word_tokenize"
   ]
  },
  {
   "cell_type": "code",
   "execution_count": null,
   "id": "74bd32ae",
   "metadata": {},
   "outputs": [],
   "source": [
    "# Les bigrammes\n",
    "from collections import Counter\n",
    "from nltk.util import ngrams"
   ]
  },
  {
   "cell_type": "code",
   "execution_count": null,
   "id": "275f68ca",
   "metadata": {},
   "outputs": [],
   "source": [
    "# Pour la vectorisation\n",
    "from sklearn.feature_extraction.text import TfidfVectorizer \n",
    "from sklearn.feature_extraction.text import CountVectorizer"
   ]
  },
  {
   "cell_type": "code",
   "execution_count": null,
   "id": "ac8eb7b7",
   "metadata": {
    "lines_to_next_cell": 2
   },
   "outputs": [],
   "source": [
    "# Visualisation Wordcloud\n",
    "from wordcloud import WordCloud"
   ]
  },
  {
   "cell_type": "code",
   "execution_count": null,
   "id": "44b0cc88",
   "metadata": {},
   "outputs": [],
   "source": [
    "nltk.download('punkt')\n",
    "# Définition de la liste de stop words considérés (celle de spacy + lettres)\n",
    "nltk.download('stopwords')"
   ]
  },
  {
   "cell_type": "code",
   "execution_count": null,
   "id": "8c5acc40",
   "metadata": {
    "lines_to_next_cell": 2
   },
   "outputs": [],
   "source": [
    "#Lecture de notre texte\n",
    "with open(f'{path}/data/message_data.json', 'r',encoding='utf-8') as f:\n",
    "    text=json.load(f)"
   ]
  },
  {
   "cell_type": "code",
   "execution_count": null,
   "id": "5e665dd6",
   "metadata": {},
   "outputs": [],
   "source": [
    "# Liste des stop words en anglais\n",
    "stop_words = set(stopwords.words('english'))"
   ]
  },
  {
   "cell_type": "code",
   "execution_count": null,
   "id": "b3808d6e",
   "metadata": {},
   "outputs": [],
   "source": [
    "stopWords = [unidecode(sw) for sw in stop_words]"
   ]
  },
  {
   "cell_type": "code",
   "execution_count": null,
   "id": "da553613",
   "metadata": {
    "lines_to_next_cell": 1
   },
   "outputs": [],
   "source": [
    "# Création du stemmer\n",
    "stemmer = SnowballStemmer('english')"
   ]
  },
  {
   "cell_type": "code",
   "execution_count": null,
   "id": "e6542c7c",
   "metadata": {
    "lines_to_next_cell": 1
   },
   "outputs": [],
   "source": [
    "# Création d'une fonction pour supprimer les sw\n",
    "def no_stop_word(string, stopWords):\n",
    "\n",
    "    \"\"\"\n",
    "    Supprime les stop words d'un texte.\n",
    "\n",
    "    Paramètres\n",
    "    ----------\n",
    "\n",
    "    string : chaine de caractère.\n",
    "\n",
    "    stopWords : liste de mots à exclure. \n",
    "    \n",
    "    ----------\n",
    "    Sortie : string sans stopWords\n",
    "    \"\"\"\n",
    "    \n",
    "    string=' '.join([word for word in string.split() if word not in stopWords])\n",
    "    \n",
    "    \n",
    "    return string"
   ]
  },
  {
   "cell_type": "code",
   "execution_count": null,
   "id": "b40d663f",
   "metadata": {
    "lines_to_next_cell": 1
   },
   "outputs": [],
   "source": [
    "# Création d'une fonction pour stemmatiser chaque mot d'un text \n",
    "def stemmatise_text(text, stemmer):\n",
    "    \"\"\"Stemmatise un texte : Ramène les mots d'un texte à leur racine (peut créer des mots qui n'existe pas).\n",
    "\n",
    "    Paramètres\n",
    "    ----------\n",
    "    text : Chaine de caractères.\n",
    "\n",
    "    stemmer : Stemmer de NLTK.\n",
    "    \n",
    "    ----------\n",
    "    Sortie : string qui contient la forme stemmatisée des mots\n",
    "    \"\"\"\n",
    "    \n",
    "    string = \" \".join([stemmer.stem(word) for word in text.split()])\n",
    "    return string"
   ]
  },
  {
   "cell_type": "code",
   "execution_count": null,
   "id": "2b4fcb1d",
   "metadata": {
    "lines_to_next_cell": 1
   },
   "outputs": [],
   "source": [
    "def stem_cleaner(pandasSeries, stemmer, stopWords):\n",
    "    \n",
    "    print(\"#### Nettoyage en cours du corpus ####\") # Mettre des print vous permet de comprendre où votre code rencontre des problèmes en cas de bug\n",
    "    \n",
    "    # confirmation que chaque article est bien de type str\n",
    "    pandasSeries = pandasSeries.apply(lambda x : str(x))\n",
    "    \n",
    "    # Passage en minuscule\n",
    "    print(\"... Passage en minuscule\") \n",
    "    pandasSeries = pandasSeries.apply(lambda x : x.lower())\n",
    "    \n",
    "    # Suppression des accents\n",
    "    print(\"... Suppression des accents\") \n",
    "    pandasSeries = pandasSeries.apply(lambda x : unidecode(x))\n",
    "    \n",
    "    # Changement de chaque année numérique en 'annee' en utilisant une regex\n",
    "    print(\"... Détection du champs année\") \n",
    "    pandasSeries = pandasSeries.apply(lambda x : re.sub(\"[0:9]{4}\",\"annee\",x))\n",
    "    \n",
    "    # Suppression des caractères spéciaux et numériques\n",
    "    # Garder uniquement les lettres a-z en utilisant une regex\n",
    "    print(\"... Suppression des caractères spéciaux et numériques\") \n",
    "    pandasSeries = pandasSeries.apply(lambda x : re.sub(\"[^a-z]+\",\" \",x))\n",
    "    \n",
    "    # Suppression des stop words (appliquer la fonction no_stop_word créée ci-dessus)\n",
    "    print(\"... Suppression des stop words\") \n",
    "    pandasSeries = pandasSeries.apply(lambda x : no_stop_word(x, stopWords))\n",
    "    \n",
    "    # Stemmatisation (appliquer la fonction stemmatise_text créée ci-dessus)\n",
    "    print(\"... Stemmatisation\") \n",
    "    pandasSeries = pandasSeries.apply(lambda x : stemmatise_text(x,stemmer))\n",
    "    \n",
    "    print(\"#### Nettoyage OK! ####\")\n",
    "\n",
    "    return pandasSeries"
   ]
  },
  {
   "cell_type": "code",
   "execution_count": null,
   "id": "8b5ebefd",
   "metadata": {},
   "outputs": [],
   "source": [
    "#Exécution\n",
    "text_stem = stem_cleaner(pd.Series(text), stemmer, stopWords)\n",
    "text_stem.head()"
   ]
  },
  {
   "cell_type": "code",
   "execution_count": null,
   "id": "b65e78c1",
   "metadata": {
    "lines_to_next_cell": 2
   },
   "outputs": [],
   "source": [
    "text_stem_full=' '.join(text_stem)\n",
    "text_stem_mot = re.findall(r\"\\w+\", text_stem_full) #liste des mots"
   ]
  },
  {
   "cell_type": "code",
   "execution_count": null,
   "id": "9b7a1b6f",
   "metadata": {},
   "outputs": [],
   "source": [
    "liste_text_stem=set(text_stem_mot) # collection des mots présents unique dans le texte"
   ]
  },
  {
   "cell_type": "code",
   "execution_count": null,
   "id": "406d27ef",
   "metadata": {},
   "outputs": [],
   "source": [
    "#Vectoriser pour modéliser\n",
    "vectorizer = CountVectorizer()\n",
    "X = vectorizer.fit_transform(text_stem)\n",
    "#print(X.toarray())"
   ]
  },
  {
   "cell_type": "code",
   "execution_count": null,
   "id": "11bf57cb",
   "metadata": {},
   "outputs": [],
   "source": [
    "#Visualisation\n",
    "wordcloud = WordCloud(\n",
    "    width=800,\n",
    "    height=400,\n",
    "    colormap='plasma',\n",
    "    background_color='white',\n",
    ").generate(text_stem_full)"
   ]
  },
  {
   "cell_type": "code",
   "execution_count": null,
   "id": "9554b862",
   "metadata": {},
   "outputs": [],
   "source": [
    "plt.figure(figsize=(10, 5))\n",
    "plt.imshow(wordcloud, interpolation='bilinear')\n",
    "plt.axis('off')\n",
    "plt.show()"
   ]
  },
  {
   "cell_type": "markdown",
   "id": "993cf3fd",
   "metadata": {},
   "source": [
    "################ Site du Dataset\n",
    "https://www.kaggle.com/competitions/bike-sharing-demand/data"
   ]
  },
  {
   "cell_type": "code",
   "execution_count": null,
   "id": "fe93ef66",
   "metadata": {},
   "outputs": [],
   "source": []
  }
 ],
 "metadata": {
  "jupytext": {
   "cell_metadata_filter": "-all",
   "encoding": "# -*- coding: utf-8 -*-",
   "main_language": "python",
   "notebook_metadata_filter": "-all"
  },
  "kernelspec": {
   "display_name": "Python 3 (ipykernel)",
   "language": "python",
   "name": "python3"
  },
  "language_info": {
   "codemirror_mode": {
    "name": "ipython",
    "version": 3
   },
   "file_extension": ".py",
   "mimetype": "text/x-python",
   "name": "python",
   "nbconvert_exporter": "python",
   "pygments_lexer": "ipython3",
   "version": "3.11.7"
  }
 },
 "nbformat": 4,
 "nbformat_minor": 5
}
